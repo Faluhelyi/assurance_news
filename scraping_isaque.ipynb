{
 "cells": [
  {
   "cell_type": "markdown",
   "metadata": {},
   "source": [
    "# WEB SCRAPING PARA O BUSCAR AS PRINCIPAIS NOTÍCIAS NO SITE REVISTA APÓLICE"
   ]
  },
  {
   "cell_type": "code",
   "execution_count": 1,
   "metadata": {},
   "outputs": [],
   "source": [
    "import pandas as pd\n",
    "import numpy as np\n",
    "import requests\n",
    "from bs4 import BeautifulSoup\n",
    "\n",
    "# Request\n",
    "r1 = requests.get('https://www.revistaapolice.com.br/revistas/')\n",
    "r1.status_code\n",
    " \n",
    "# We'll save in coverpage the cover page content\n",
    "coverpage = r1.content\n",
    "\n",
    "# Soup creation\n",
    "soup1 = BeautifulSoup(coverpage, 'html.parser')\n",
    "\n",
    "# News identification\n",
    "coverpage_news = soup1.find_all('a', class_='p-url')"
   ]
  },
  {
   "cell_type": "code",
   "execution_count": 2,
   "metadata": {},
   "outputs": [
    {
     "data": {
      "text/plain": [
       "'Seguradoras adotam medidas emergenciais para ajudar litoral de SP'"
      ]
     },
     "execution_count": 2,
     "metadata": {},
     "output_type": "execute_result"
    }
   ],
   "source": [
    "coverpage_news[0].get_text()"
   ]
  },
  {
   "cell_type": "code",
   "execution_count": 3,
   "metadata": {},
   "outputs": [],
   "source": [
    "title = np.array([])\n",
    "link = np.array([])\n",
    "for i in range(23):\n",
    "    title = np.append(title, coverpage_news[i].get_text())\n",
    "    link = np.append(link, coverpage_news[i]['href'])"
   ]
  },
  {
   "cell_type": "code",
   "execution_count": 4,
   "metadata": {},
   "outputs": [],
   "source": [
    "news_data = pd.DataFrame({'Title': title, 'Link': link})\n",
    "\n",
    "news_data = news_data.drop([0,1,2,3,8,9,10,11,12,13,14,15,16])\n",
    "\n",
    "news_data.index = [i for i in range(len(news_data))]\n"
   ]
  },
  {
   "cell_type": "code",
   "execution_count": 5,
   "metadata": {},
   "outputs": [],
   "source": [
    "abstract = np.array([])\n",
    "\n",
    "for i in range(len(news_data['Link'])):\n",
    "    # Request\n",
    "    r1 = requests.get(news_data['Link'][i])\n",
    " \n",
    "    # We'll save in coverpage the cover page content\n",
    "    coverpage = r1.content\n",
    "\n",
    "    # Soup creation\n",
    "    soup1 = BeautifulSoup(coverpage, 'html.parser')\n",
    "\n",
    "    # News identification\n",
    "    coverpage_news_abs = soup1.find_all('h6', class_='h4')\n",
    "    \n",
    "    \n",
    "    abstract = np.append(abstract, coverpage_news_abs[2].get_text())"
   ]
  },
  {
   "cell_type": "code",
   "execution_count": null,
   "metadata": {},
   "outputs": [],
   "source": [
    "news_data['Abstract'] = abstract"
   ]
  },
  {
   "cell_type": "code",
   "execution_count": null,
   "metadata": {},
   "outputs": [],
   "source": [
    "news_data.to_excel('principais_noticias.xlsx')"
   ]
  }
 ],
 "metadata": {
  "kernelspec": {
   "display_name": "Python 3",
   "language": "python",
   "name": "python3"
  },
  "language_info": {
   "codemirror_mode": {
    "name": "ipython",
    "version": 3
   },
   "file_extension": ".py",
   "mimetype": "text/x-python",
   "name": "python",
   "nbconvert_exporter": "python",
   "pygments_lexer": "ipython3",
   "version": "3.11.1"
  },
  "orig_nbformat": 4,
  "vscode": {
   "interpreter": {
    "hash": "2e1ac6a7c1917dcc26c46fffc3aba477cf915d340688fb43c53c9eb3d2ac4c79"
   }
  }
 },
 "nbformat": 4,
 "nbformat_minor": 2
}
